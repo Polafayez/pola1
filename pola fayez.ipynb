{
 "cells": [
  {
   "cell_type": "code",
   "execution_count": 5,
   "id": "ad04535c",
   "metadata": {
    "_cell_guid": "b1076dfc-b9ad-4769-8c92-a6c4dae69d19",
    "_uuid": "8f2839f25d086af736a60e9eeb907d3b93b6e0e5",
    "papermill": {
     "duration": 0.033215,
     "end_time": "2023-01-17T03:03:49.411870",
     "exception": false,
     "start_time": "2023-01-17T03:03:49.378655",
     "status": "completed"
    },
    "tags": []
   },
   "outputs": [],
   "source": [
    "import pandas as pd # data processing, CSV file I/O (e.g. pd.read_csv)\n",
    "import os\n",
    "from sklearn.model_selection import train_test_split\n",
    "from sklearn.naive_bayes import GaussianNB\n",
    "from sklearn.metrics import confusion_matrix, classification_report\n",
    "from sklearn.metrics import accuracy_score\n",
    "from sklearn.preprocessing import StandardScaler\n",
    "from sklearn.neighbors import KNeighborsClassifier"
   ]
  },
  {
   "cell_type": "code",
   "execution_count": 6,
   "id": "e2cd5864",
   "metadata": {
    "papermill": {
     "duration": 0.029872,
     "end_time": "2023-01-17T03:03:49.447876",
     "exception": false,
     "start_time": "2023-01-17T03:03:49.418004",
     "status": "completed"
    },
    "tags": []
   },
   "outputs": [],
   "source": [
    "df = pd.read_csv(r\"C:\\Users\\office\\Downloads\\Naive-Bayes-Classification-Data.csv\")"
   ]
  },
  {
   "cell_type": "code",
   "execution_count": 11,
   "id": "6f7752e8",
   "metadata": {
    "papermill": {
     "duration": 0.034291,
     "end_time": "2023-01-17T03:03:49.487247",
     "exception": false,
     "start_time": "2023-01-17T03:03:49.452956",
     "status": "completed"
    },
    "tags": []
   },
   "outputs": [
    {
     "data": {
      "text/html": [
       "<div>\n",
       "<style scoped>\n",
       "    .dataframe tbody tr th:only-of-type {\n",
       "        vertical-align: middle;\n",
       "    }\n",
       "\n",
       "    .dataframe tbody tr th {\n",
       "        vertical-align: top;\n",
       "    }\n",
       "\n",
       "    .dataframe thead th {\n",
       "        text-align: right;\n",
       "    }\n",
       "</style>\n",
       "<table border=\"1\" class=\"dataframe\">\n",
       "  <thead>\n",
       "    <tr style=\"text-align: right;\">\n",
       "      <th></th>\n",
       "      <th>glucose</th>\n",
       "      <th>bloodpressure</th>\n",
       "      <th>diabetes</th>\n",
       "    </tr>\n",
       "  </thead>\n",
       "  <tbody>\n",
       "    <tr>\n",
       "      <th>0</th>\n",
       "      <td>40</td>\n",
       "      <td>85</td>\n",
       "      <td>0</td>\n",
       "    </tr>\n",
       "    <tr>\n",
       "      <th>1</th>\n",
       "      <td>40</td>\n",
       "      <td>92</td>\n",
       "      <td>0</td>\n",
       "    </tr>\n",
       "    <tr>\n",
       "      <th>2</th>\n",
       "      <td>45</td>\n",
       "      <td>63</td>\n",
       "      <td>1</td>\n",
       "    </tr>\n",
       "    <tr>\n",
       "      <th>3</th>\n",
       "      <td>45</td>\n",
       "      <td>80</td>\n",
       "      <td>0</td>\n",
       "    </tr>\n",
       "    <tr>\n",
       "      <th>4</th>\n",
       "      <td>40</td>\n",
       "      <td>73</td>\n",
       "      <td>1</td>\n",
       "    </tr>\n",
       "    <tr>\n",
       "      <th>...</th>\n",
       "      <td>...</td>\n",
       "      <td>...</td>\n",
       "      <td>...</td>\n",
       "    </tr>\n",
       "    <tr>\n",
       "      <th>990</th>\n",
       "      <td>45</td>\n",
       "      <td>87</td>\n",
       "      <td>0</td>\n",
       "    </tr>\n",
       "    <tr>\n",
       "      <th>991</th>\n",
       "      <td>40</td>\n",
       "      <td>83</td>\n",
       "      <td>0</td>\n",
       "    </tr>\n",
       "    <tr>\n",
       "      <th>992</th>\n",
       "      <td>40</td>\n",
       "      <td>83</td>\n",
       "      <td>0</td>\n",
       "    </tr>\n",
       "    <tr>\n",
       "      <th>993</th>\n",
       "      <td>40</td>\n",
       "      <td>60</td>\n",
       "      <td>1</td>\n",
       "    </tr>\n",
       "    <tr>\n",
       "      <th>994</th>\n",
       "      <td>45</td>\n",
       "      <td>82</td>\n",
       "      <td>0</td>\n",
       "    </tr>\n",
       "  </tbody>\n",
       "</table>\n",
       "<p>995 rows × 3 columns</p>\n",
       "</div>"
      ],
      "text/plain": [
       "     glucose  bloodpressure  diabetes\n",
       "0         40             85         0\n",
       "1         40             92         0\n",
       "2         45             63         1\n",
       "3         45             80         0\n",
       "4         40             73         1\n",
       "..       ...            ...       ...\n",
       "990       45             87         0\n",
       "991       40             83         0\n",
       "992       40             83         0\n",
       "993       40             60         1\n",
       "994       45             82         0\n",
       "\n",
       "[995 rows x 3 columns]"
      ]
     },
     "execution_count": 11,
     "metadata": {},
     "output_type": "execute_result"
    }
   ],
   "source": [
    "df"
   ]
  },
  {
   "cell_type": "code",
   "execution_count": 7,
   "id": "d6b67a7d",
   "metadata": {
    "papermill": {
     "duration": 0.019528,
     "end_time": "2023-01-17T03:03:49.513666",
     "exception": false,
     "start_time": "2023-01-17T03:03:49.494138",
     "status": "completed"
    },
    "tags": []
   },
   "outputs": [
    {
     "data": {
      "text/plain": [
       "glucose          0\n",
       "bloodpressure    0\n",
       "diabetes         0\n",
       "dtype: int64"
      ]
     },
     "execution_count": 7,
     "metadata": {},
     "output_type": "execute_result"
    }
   ],
   "source": [
    "df.isnull().sum()"
   ]
  },
  {
   "cell_type": "code",
   "execution_count": 8,
   "id": "4c2360f0-7106-4eee-948f-21dbfc49780e",
   "metadata": {},
   "outputs": [
    {
     "data": {
      "text/plain": [
       "995"
      ]
     },
     "execution_count": 8,
     "metadata": {},
     "output_type": "execute_result"
    }
   ],
   "source": [
    "len(df)"
   ]
  },
  {
   "cell_type": "code",
   "execution_count": 9,
   "id": "885ed965-9731-4a58-bae7-209a583f3603",
   "metadata": {},
   "outputs": [
    {
     "data": {
      "text/plain": [
       "(995, 3)"
      ]
     },
     "execution_count": 9,
     "metadata": {},
     "output_type": "execute_result"
    }
   ],
   "source": [
    "df.shape"
   ]
  },
  {
   "cell_type": "code",
   "execution_count": 10,
   "id": "6583946a",
   "metadata": {
    "papermill": {
     "duration": 0.016725,
     "end_time": "2023-01-17T03:03:49.535479",
     "exception": false,
     "start_time": "2023-01-17T03:03:49.518754",
     "status": "completed"
    },
    "tags": []
   },
   "outputs": [],
   "source": [
    "# split dataset\n",
    "X = df.iloc[:,:-1]\n",
    "y = df.iloc[:,-1]"
   ]
  },
  {
   "cell_type": "code",
   "execution_count": 11,
   "id": "6b3adb7e",
   "metadata": {
    "papermill": {
     "duration": 0.021606,
     "end_time": "2023-01-17T03:03:50.815047",
     "exception": false,
     "start_time": "2023-01-17T03:03:50.793441",
     "status": "completed"
    },
    "tags": []
   },
   "outputs": [],
   "source": [
    "X_train, X_test, y_train, y_test = train_test_split(X, y, test_size=0.33, random_state=42)"
   ]
  },
  {
   "cell_type": "code",
   "execution_count": 12,
   "id": "db0e94bf-fcf2-48e2-b8b4-c009d19bb3df",
   "metadata": {},
   "outputs": [
    {
     "name": "stdout",
     "output_type": "stream",
     "text": [
      "666\n",
      "666\n",
      "329\n",
      "329\n"
     ]
    }
   ],
   "source": [
    "print(len(X_train))\n",
    "print(len(y_train))\n",
    "print(len(X_test))\n",
    "print(len(y_test))\n"
   ]
  },
  {
   "cell_type": "code",
   "execution_count": 24,
   "id": "f73c6781-73d0-4db8-a623-bb8ac247402c",
   "metadata": {},
   "outputs": [],
   "source": [
    "#Feature scaling\n",
    "sc_X = StandardScaler()\n",
    "X_train = sc_X.fit_transform(X_train)\n",
    "X_test = sc_X.transform(X_test)"
   ]
  },
  {
   "cell_type": "markdown",
   "id": "8b9d8d7d",
   "metadata": {},
   "source": [
    "#Using Naive Bayes classifier"
   ]
  },
  {
   "cell_type": "code",
   "execution_count": 19,
   "id": "cb440bed",
   "metadata": {
    "papermill": {
     "duration": 0.015681,
     "end_time": "2023-01-17T03:03:50.859614",
     "exception": false,
     "start_time": "2023-01-17T03:03:50.843933",
     "status": "completed"
    },
    "tags": []
   },
   "outputs": [],
   "source": [
    "gnb = GaussianNB()"
   ]
  },
  {
   "cell_type": "code",
   "execution_count": 20,
   "id": "3ef35acb",
   "metadata": {
    "papermill": {
     "duration": 0.025799,
     "end_time": "2023-01-17T03:03:50.890366",
     "exception": false,
     "start_time": "2023-01-17T03:03:50.864567",
     "status": "completed"
    },
    "tags": []
   },
   "outputs": [
    {
     "data": {
      "text/plain": [
       "GaussianNB()"
      ]
     },
     "execution_count": 20,
     "metadata": {},
     "output_type": "execute_result"
    }
   ],
   "source": [
    "gnb.fit(X_train,y_train)"
   ]
  },
  {
   "cell_type": "code",
   "execution_count": 23,
   "id": "2e9281ec",
   "metadata": {
    "papermill": {
     "duration": 0.018658,
     "end_time": "2023-01-17T03:03:50.915893",
     "exception": false,
     "start_time": "2023-01-17T03:03:50.897235",
     "status": "completed"
    },
    "tags": []
   },
   "outputs": [],
   "source": [
    "gnb_pred = gnb.predict(X_test)"
   ]
  },
  {
   "cell_type": "code",
   "execution_count": 24,
   "id": "1cb03718",
   "metadata": {
    "papermill": {
     "duration": 0.016315,
     "end_time": "2023-01-17T03:03:50.937714",
     "exception": false,
     "start_time": "2023-01-17T03:03:50.921399",
     "status": "completed"
    },
    "tags": []
   },
   "outputs": [
    {
     "name": "stdout",
     "output_type": "stream",
     "text": [
      "[1 1 1 0 0 0 1 0 0 1 0 0 0 0 0 1 1 1 1 0 0 1 1 0 0 0 1 1 0 0 0 1 0 1 0 1 1\n",
      " 0 0 0 1 0 0 0 0 0 1 1 1 1 0 1 0 1 1 1 1 1 1 1 0 1 1 1 0 1 1 0 1 1 0 0 0 0\n",
      " 1 1 0 0 1 1 0 0 0 0 0 0 0 1 0 1 0 0 1 0 1 1 0 1 1 1 1 1 1 0 0 1 1 0 1 0 1\n",
      " 0 1 0 0 1 0 0 1 1 1 0 0 0 0 1 1 0 1 1 1 0 0 0 1 1 1 1 0 1 1 0 1 1 1 1 0 0\n",
      " 1 1 0 1 0 0 1 1 1 0 0 1 1 1 0 1 1 1 0 0 1 1 1 0 1 0 0 1 0 1 1 1 1 1 0 0 0\n",
      " 1 1 1 0 1 1 1 1 0 0 1 0 0 0 0 1 1 1 1 0 1 1 1 0 0 1 1 1 1 1 1 1 1 0 0 1 1\n",
      " 0 0 1 1 1 1 0 0 1 0 0 1 0 1 1 0 1 0 1 0 1 0 1 0 0 0 0 0 1 0 1 0 0 1 0 1 0\n",
      " 0 1 1 0 0 0 0 0 1 0 0 0 1 0 1 0 0 0 1 1 1 1 0 0 1 1 1 0 1 0 1 1 1 1 0 1 0\n",
      " 1 1 0 0 0 0 1 0 1 0 1 0 0 1 0 1 0 1 0 1 1 1 1 0 0 1 0 0 1 1 1 0 0]\n"
     ]
    }
   ],
   "source": [
    "print(gnb_pred)"
   ]
  },
  {
   "cell_type": "code",
   "execution_count": 27,
   "id": "42c3ccea",
   "metadata": {
    "papermill": {
     "duration": 0.020314,
     "end_time": "2023-01-17T03:03:50.984838",
     "exception": false,
     "start_time": "2023-01-17T03:03:50.964524",
     "status": "completed"
    },
    "tags": []
   },
   "outputs": [
    {
     "name": "stdout",
     "output_type": "stream",
     "text": [
      "confusion metrix:\n",
      " [[142  11]\n",
      " [ 14 162]]\n"
     ]
    }
   ],
   "source": [
    "print(\"confusion metrix:\\n\" ,(confusion_matrix(y_test,gnb_pred)))"
   ]
  },
  {
   "cell_type": "code",
   "execution_count": 28,
   "id": "bac4471c",
   "metadata": {
    "papermill": {
     "duration": 0.029176,
     "end_time": "2023-01-17T03:03:51.019563",
     "exception": false,
     "start_time": "2023-01-17T03:03:50.990387",
     "status": "completed"
    },
    "tags": []
   },
   "outputs": [
    {
     "name": "stdout",
     "output_type": "stream",
     "text": [
      "classification report:\n",
      "               precision    recall  f1-score   support\n",
      "\n",
      "           0       0.91      0.93      0.92       153\n",
      "           1       0.94      0.92      0.93       176\n",
      "\n",
      "    accuracy                           0.92       329\n",
      "   macro avg       0.92      0.92      0.92       329\n",
      "weighted avg       0.92      0.92      0.92       329\n",
      "\n"
     ]
    }
   ],
   "source": [
    "print(\"classification report:\\n\",classification_report(y_test,gnb_pred))"
   ]
  },
  {
   "cell_type": "code",
   "execution_count": 29,
   "id": "d407d70c-30fc-45c5-92fb-d8a62f1ae490",
   "metadata": {},
   "outputs": [
    {
     "name": "stdout",
     "output_type": "stream",
     "text": [
      "0.9240121580547113\n"
     ]
    }
   ],
   "source": [
    "print(accuracy_score(y_test, gnb_pred))"
   ]
  },
  {
   "cell_type": "markdown",
   "id": "0603eced",
   "metadata": {},
   "source": [
    "#Using KNN Model"
   ]
  },
  {
   "cell_type": "code",
   "execution_count": 3,
   "id": "7d7026d0",
   "metadata": {},
   "outputs": [],
   "source": [
    "# Define the model: Init K-NN\n",
    "classifier = KNeighborsClassifier(n_neighbors=11, p=2,metric='euclidean')"
   ]
  },
  {
   "cell_type": "code",
   "execution_count": 13,
   "id": "d24f3606",
   "metadata": {},
   "outputs": [
    {
     "data": {
      "text/plain": [
       "KNeighborsClassifier(metric='euclidean', n_neighbors=11)"
      ]
     },
     "execution_count": 13,
     "metadata": {},
     "output_type": "execute_result"
    }
   ],
   "source": [
    "# Fit Model\n",
    "classifier.fit(X_train, y_train)"
   ]
  },
  {
   "cell_type": "code",
   "execution_count": 16,
   "id": "1fc41f16",
   "metadata": {},
   "outputs": [
    {
     "name": "stderr",
     "output_type": "stream",
     "text": [
      "C:\\Users\\office\\anaconda3\\lib\\site-packages\\sklearn\\neighbors\\_classification.py:228: FutureWarning: Unlike other reduction functions (e.g. `skew`, `kurtosis`), the default behavior of `mode` typically preserves the axis it acts along. In SciPy 1.11.0, this behavior will change: the default value of `keepdims` will become False, the `axis` over which the statistic is taken will be eliminated, and the value None will no longer be accepted. Set `keepdims` to True or False to avoid this warning.\n",
      "  mode, _ = stats.mode(_y[neigh_ind, k], axis=1)\n"
     ]
    },
    {
     "data": {
      "text/plain": [
       "array([1, 1, 1, 0, 0, 0, 1, 0, 0, 1, 0, 0, 0, 0, 0, 1, 1, 1, 1, 0, 0, 1,\n",
       "       1, 0, 0, 0, 1, 1, 0, 0, 0, 1, 0, 1, 0, 1, 1, 0, 0, 0, 1, 0, 0, 0,\n",
       "       0, 0, 1, 1, 1, 1, 0, 1, 0, 1, 1, 1, 1, 1, 1, 1, 0, 1, 1, 1, 0, 1,\n",
       "       1, 0, 1, 1, 0, 0, 0, 0, 1, 1, 0, 0, 1, 1, 0, 0, 0, 0, 0, 0, 0, 1,\n",
       "       0, 1, 0, 0, 1, 0, 1, 1, 0, 1, 1, 1, 1, 1, 1, 0, 0, 1, 1, 0, 1, 0,\n",
       "       1, 0, 1, 0, 0, 1, 0, 0, 1, 1, 1, 0, 0, 0, 0, 1, 1, 0, 1, 1, 1, 0,\n",
       "       0, 0, 1, 1, 1, 1, 0, 1, 1, 0, 1, 1, 1, 1, 0, 0, 1, 1, 0, 1, 0, 0,\n",
       "       1, 1, 1, 0, 0, 1, 1, 1, 0, 1, 1, 1, 0, 0, 1, 1, 1, 0, 1, 0, 0, 1,\n",
       "       0, 1, 1, 1, 1, 1, 0, 0, 0, 1, 1, 1, 0, 1, 1, 1, 1, 0, 0, 1, 0, 0,\n",
       "       0, 0, 1, 1, 1, 1, 0, 1, 1, 1, 0, 0, 1, 1, 1, 1, 1, 1, 1, 1, 0, 0,\n",
       "       1, 1, 0, 0, 1, 1, 1, 1, 0, 0, 1, 0, 0, 1, 0, 1, 1, 1, 1, 0, 1, 0,\n",
       "       1, 0, 1, 0, 0, 0, 0, 0, 1, 0, 1, 0, 0, 1, 0, 1, 0, 0, 1, 1, 0, 0,\n",
       "       0, 0, 0, 1, 0, 0, 0, 1, 0, 1, 0, 0, 0, 1, 1, 1, 0, 0, 0, 1, 1, 1,\n",
       "       0, 1, 0, 1, 1, 1, 1, 0, 1, 0, 1, 1, 1, 0, 0, 0, 1, 0, 1, 0, 1, 0,\n",
       "       0, 1, 0, 1, 0, 1, 0, 1, 1, 1, 1, 0, 0, 1, 0, 0, 1, 1, 1, 0, 0],\n",
       "      dtype=int64)"
      ]
     },
     "execution_count": 16,
     "metadata": {},
     "output_type": "execute_result"
    }
   ],
   "source": [
    "# Predict the test set results\n",
    "KNN_pred = classifier.predict(X_test)\n",
    "KNN_pred"
   ]
  },
  {
   "cell_type": "code",
   "execution_count": 26,
   "id": "c68e0ea0",
   "metadata": {},
   "outputs": [
    {
     "name": "stdout",
     "output_type": "stream",
     "text": [
      "confusion metrix:\n",
      " [[142  11]\n",
      " [ 13 163]]\n"
     ]
    }
   ],
   "source": [
    "print(\"confusion metrix:\\n\" ,(confusion_matrix(y_test,KNN_pred)))"
   ]
  },
  {
   "cell_type": "code",
   "execution_count": 30,
   "id": "6859f14b",
   "metadata": {},
   "outputs": [
    {
     "name": "stdout",
     "output_type": "stream",
     "text": [
      "classification report:\n",
      "               precision    recall  f1-score   support\n",
      "\n",
      "           0       0.92      0.93      0.92       153\n",
      "           1       0.94      0.93      0.93       176\n",
      "\n",
      "    accuracy                           0.93       329\n",
      "   macro avg       0.93      0.93      0.93       329\n",
      "weighted avg       0.93      0.93      0.93       329\n",
      "\n"
     ]
    }
   ],
   "source": [
    "print(\"classification report:\\n\",classification_report(y_test,KNN_pred))"
   ]
  },
  {
   "cell_type": "code",
   "execution_count": 31,
   "id": "5a4a6b53",
   "metadata": {},
   "outputs": [
    {
     "name": "stdout",
     "output_type": "stream",
     "text": [
      "0.9270516717325228\n"
     ]
    }
   ],
   "source": [
    "print(accuracy_score(y_test, KNN_pred))"
   ]
  },
  {
   "cell_type": "code",
   "execution_count": null,
   "id": "c9f2dabc",
   "metadata": {},
   "outputs": [],
   "source": []
  }
 ],
 "metadata": {
  "kernelspec": {
   "display_name": "Python 3 (ipykernel)",
   "language": "python",
   "name": "python3"
  },
  "language_info": {
   "codemirror_mode": {
    "name": "ipython",
    "version": 3
   },
   "file_extension": ".py",
   "mimetype": "text/x-python",
   "name": "python",
   "nbconvert_exporter": "python",
   "pygments_lexer": "ipython3",
   "version": "3.9.13"
  },
  "papermill": {
   "default_parameters": {},
   "duration": 13.394645,
   "end_time": "2023-01-17T03:03:51.847646",
   "environment_variables": {},
   "exception": null,
   "input_path": "__notebook__.ipynb",
   "output_path": "__notebook__.ipynb",
   "parameters": {},
   "start_time": "2023-01-17T03:03:38.453001",
   "version": "2.3.4"
  }
 },
 "nbformat": 4,
 "nbformat_minor": 5
}
